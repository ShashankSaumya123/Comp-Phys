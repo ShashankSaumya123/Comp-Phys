{
 "cells": [
  {
   "cell_type": "code",
   "execution_count": 1,
   "metadata": {},
   "outputs": [],
   "source": [
    "import myLib\n",
    "import numpy as np\n",
    "from matplotlib import pyplot as plt"
   ]
  },
  {
   "cell_type": "code",
   "execution_count": 2,
   "metadata": {},
   "outputs": [
    {
     "name": "stdout",
     "output_type": "stream",
     "text": [
      "[0.0, 0.05, 0.1, 0.15, 0.2, 0.25, 0.3, 0.35, 0.4, 0.45, 0.5, 0.55, 0.6, 0.65, 0.7, 0.75, 0.8, 0.85, 0.9, 0.95, 1.0] [0.486, 0.866, 0.944, 1.144, 1.103, 1.202, 1.166, 1.191, 1.124, 1.095, 1.122, 1.102, 1.099, 1.017, 1.111, 1.117, 1.152, 1.265, 1.38, 1.575, 1.857]\n"
     ]
    }
   ],
   "source": [
    "Data = myLib.file_opener(\"Fit.txt\")\n",
    "Data\n",
    "X = []\n",
    "Y = []\n",
    "for i in range(len(Data)):\n",
    "    X.append(Data[i][0])\n",
    "    Y.append(Data[i][1])\n",
    "print(X,Y)"
   ]
  },
  {
   "cell_type": "code",
   "execution_count": 3,
   "metadata": {},
   "outputs": [],
   "source": [
    "def cheby(i,X):\n",
    "        if(i == 0): return 1\n",
    "        if(i == 1): return (2*X)-1\n",
    "        if(i == 2): return (8*X*X)-(8*X)+1\n",
    "        if(i == 3): return (32*X*X*X)-(48*X*X)+(18*X)-1\n",
    "\n",
    "C1,cov1,cond1 =  myLib.PolynomialChiSqFit(X, Y, n=4)\n",
    "C2,cov2,cond2 =  myLib.ChebyPolynomialChiSqFit(X, Y, n=4)\n",
    "\n",
    "yfit1 = []\n",
    "for i in range(len(X)):\n",
    "    yfit1.append(C1[0]+C1[1]*X[i]+C1[2]*X[i]*X[i]+C1[3]*X[i]*X[i]*X[i])\n",
    "\n",
    "yfit2 = []\n",
    "for i in range(len(X)):\n",
    "    #yfit2.append(C2[0]+C2[1]*cheby(1,X[i])+C2[2]*X[i]*X[i]+C2[3]*X[i]*X[i]*X[i])\n",
    "    sum = 0\n",
    "    for j in range(4):\n",
    "        sum += C2[j]*cheby(j,X[i])\n",
    "    yfit2.append(sum)"
   ]
  },
  {
   "cell_type": "code",
   "execution_count": 4,
   "metadata": {},
   "outputs": [
    {
     "name": "stdout",
     "output_type": "stream",
     "text": [
      "[  0.59832404   4.44384475 -10.45497108   7.23951536] 12104.948671030921\n",
      "[1.16093319 0.39343956 0.04683042 0.2396269 ] 3.856146578615577\n",
      "So, chebyschev fitting is more tolerant to any changes in the input data.\n"
     ]
    },
    {
     "data": {
      "image/png": "[encoded data removed]",
      "text/plain": [
       "<Figure size 432x288 with 1 Axes>"
      ]
     },
     "metadata": {
      "needs_background": "light"
     },
     "output_type": "display_data"
    }
   ],
   "source": [
    "plt.plot(X,Y,'.')\n",
    "plt.plot(X,yfit1,'--')\n",
    "plt.plot(X,yfit2,'-.')\n",
    "print(C1,cond1)\n",
    "print(C2,cond2)\n",
    "print(\"So, chebyschev fitting is more tolerant to any changes in the input data.\")"
   ]
  }
 ],
 "metadata": {
  "interpreter": {
   "hash": "cd877c744f245d66ad89f7b86dd36462382e3c3b851519d05d729037db69bba9"
  },
  "kernelspec": {
   "display_name": "Python 3.9.10 ('lab-env': venv)",
   "language": "python",
   "name": "python3"
  },
  "language_info": {
   "codemirror_mode": {
    "name": "ipython",
    "version": 3
   },
   "file_extension": ".py",
   "mimetype": "text/x-python",
   "name": "python",
   "nbconvert_exporter": "python",
   "pygments_lexer": "ipython3",
   "version": "3.9.10"
  },
  "orig_nbformat": 4
 },
 "nbformat": 4,
 "nbformat_minor": 2
}
