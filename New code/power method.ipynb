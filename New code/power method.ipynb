{
 "cells": [
  {
   "cell_type": "code",
   "execution_count": 1,
   "metadata": {},
   "outputs": [],
   "source": [
    "import myLib\n",
    "import numpy as np\n",
    "import math"
   ]
  },
  {
   "cell_type": "code",
   "execution_count": 5,
   "metadata": {},
   "outputs": [],
   "source": [
    "M = np.array(myLib.file_opener(\"trimat.txt\"))\n",
    "guess = [1,1,1,1,1]\n",
    "E,V = myLib.EigPowerMethod(M, n = 2)"
   ]
  },
  {
   "cell_type": "code",
   "execution_count": 6,
   "metadata": {},
   "outputs": [
    {
     "data": {
      "text/plain": [
       "([1.0, 1.1102230246251565e-16],\n",
       " [array([1., 0., 0., 0., 1.]), array([1., 0., 0., 0., 0.])])"
      ]
     },
     "execution_count": 6,
     "metadata": {},
     "output_type": "execute_result"
    }
   ],
   "source": [
    "E,V"
   ]
  }
 ],
 "metadata": {
  "interpreter": {
   "hash": "cd877c744f245d66ad89f7b86dd36462382e3c3b851519d05d729037db69bba9"
  },
  "kernelspec": {
   "display_name": "Python 3.9.10 ('lab-env': venv)",
   "language": "python",
   "name": "python3"
  },
  "language_info": {
   "codemirror_mode": {
    "name": "ipython",
    "version": 3
   },
   "file_extension": ".py",
   "mimetype": "text/x-python",
   "name": "python",
   "nbconvert_exporter": "python",
   "pygments_lexer": "ipython3",
   "version": "3.9.10"
  },
  "orig_nbformat": 4
 },
 "nbformat": 4,
 "nbformat_minor": 2
}
