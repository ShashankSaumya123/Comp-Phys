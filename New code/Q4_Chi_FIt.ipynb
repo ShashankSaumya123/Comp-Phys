{
 "cells": [
  {
   "cell_type": "code",
   "execution_count": 1,
   "metadata": {},
   "outputs": [],
   "source": [
    "import myLib\n",
    "import numpy as np\n",
    "import copy\n",
    "import math\n",
    "import matplotlib.pyplot as plt  "
   ]
  },
  {
   "cell_type": "code",
   "execution_count": 2,
   "metadata": {},
   "outputs": [
    {
     "name": "stdout",
     "output_type": "stream",
     "text": [
      "-1.1627983710891356\n"
     ]
    }
   ],
   "source": [
    "data = np.array(myLib.file_opener(\"Fit data.txt\"))\n",
    "x = data[:,0]\n",
    "y = data[:,1]\n",
    "u = data[:,2]\n",
    "\n",
    "\n",
    "# Taking log of the data to make it linear\n",
    "ylog =[]\n",
    "for i in range(len(y)):\n",
    "    ylog.append(math.log(y[i]))\n",
    "\n",
    "# Find parameters\n",
    "C, Cov = myLib.PolynomialChiSqFit(x, y, u)\n",
    "\n",
    "# C[0] is Log(N_0) and C[1] = -lambda\n",
    "\n",
    "lifetime = math.log(2)/C[1]\n",
    "\n",
    "print(lifetime)"
   ]
  },
  {
   "cell_type": "code",
   "execution_count": 8,
   "metadata": {},
   "outputs": [
    {
     "name": "stdout",
     "output_type": "stream",
     "text": [
      "[[ 2.70972735e+01  0.00000000e+00]\n",
      " [-2.53206948e-01  5.61329602e-04]]\n",
      "The error in N_0: \n",
      "27.097273499584364\n",
      "\n",
      "The error in Lifetime: \n",
      "0.0005613296022724162\n"
     ]
    }
   ],
   "source": [
    "print(\"The error in N_0: \")\n",
    "print(Cov[0][0])\n",
    "print()\n",
    "print(\"The error in Lifetime: \")\n",
    "print(Cov[1][1])"
   ]
  },
  {
   "cell_type": "code",
   "execution_count": 3,
   "metadata": {},
   "outputs": [
    {
     "name": "stdout",
     "output_type": "stream",
     "text": [
      "[[ 2.70972735e+01  0.00000000e+00]\n",
      " [-2.53206948e-01  5.61329602e-04]]\n"
     ]
    }
   ],
   "source": [
    "dof = len(x)-2\n",
    "ylogfit = []\n",
    "for i in range(len(x)):\n",
    "    ylogfit.append(C[0]+C[1]*x[i])\n",
    "\n",
    "chi = 0\n",
    "for i in range(len(x)):\n",
    "    chi += ((ylog[i]-ylogfit[i])/(u[i]))**2\n",
    "chi"
   ]
  }
 ],
 "metadata": {
  "interpreter": {
   "hash": "cd877c744f245d66ad89f7b86dd36462382e3c3b851519d05d729037db69bba9"
  },
  "kernelspec": {
   "display_name": "Python 3.9.10 ('lab-env': venv)",
   "language": "python",
   "name": "python3"
  },
  "language_info": {
   "codemirror_mode": {
    "name": "ipython",
    "version": 3
   },
   "file_extension": ".py",
   "mimetype": "text/x-python",
   "name": "python",
   "nbconvert_exporter": "python",
   "pygments_lexer": "ipython3",
   "version": "3.9.10"
  },
  "orig_nbformat": 4
 },
 "nbformat": 4,
 "nbformat_minor": 2
}
