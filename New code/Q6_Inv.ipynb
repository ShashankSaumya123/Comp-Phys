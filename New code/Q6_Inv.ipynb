{
 "cells": [
  {
   "cell_type": "code",
   "execution_count": 1,
   "metadata": {},
   "outputs": [],
   "source": [
    "import myLib\n",
    "import numpy as np\n",
    "import math"
   ]
  },
  {
   "cell_type": "code",
   "execution_count": 7,
   "metadata": {},
   "outputs": [
    {
     "data": {
      "text/plain": [
       "[-1.0, 0.0, 2.75, 2.5, -3.0, 2.0]"
      ]
     },
     "execution_count": 7,
     "metadata": {},
     "output_type": "execute_result"
    }
   ],
   "source": [
    "# Importing Matrices\n",
    "A = np.array(myLib.file_opener(\"Mat_A.txt\"))\n",
    "B = np.array(myLib.file_opener(\"Mat_B.txt\"))\n",
    "B = np.array(B)\n",
    "B = B.T\n",
    "B = B[0]\n",
    "B = B.tolist()\n",
    "B"
   ]
  },
  {
   "cell_type": "code",
   "execution_count": 8,
   "metadata": {},
   "outputs": [],
   "source": [
    "s1 = myLib.JacobiInv(A,B,tol = 1e-5)\n",
    "s2 = myLib.GaussSeidel(A,B,tol = 1e-5)"
   ]
  },
  {
   "cell_type": "code",
   "execution_count": 11,
   "metadata": {},
   "outputs": [
    {
     "name": "stdout",
     "output_type": "stream",
     "text": [
      "Jacobi solution:\n",
      "[ 1.4986095  -0.49999998  1.99999999 -2.50001017  1.00000001 -0.99930251]\n",
      "\n",
      "Gauss Seidel solution:\n",
      "[ 1.49931289 -0.49999998  1.99999999 -2.49965364  1.00000001 -0.99999925]\n"
     ]
    }
   ],
   "source": [
    "print(\"Jacobi solution:\")\n",
    "print(s1)\n",
    "print()\n",
    "print(\"Gauss Seidel solution:\")\n",
    "print(s2)"
   ]
  }
 ],
 "metadata": {
  "interpreter": {
   "hash": "cd877c744f245d66ad89f7b86dd36462382e3c3b851519d05d729037db69bba9"
  },
  "kernelspec": {
   "display_name": "Python 3.9.10 ('lab-env': venv)",
   "language": "python",
   "name": "python3"
  },
  "language_info": {
   "codemirror_mode": {
    "name": "ipython",
    "version": 3
   },
   "file_extension": ".py",
   "mimetype": "text/x-python",
   "name": "python",
   "nbconvert_exporter": "python",
   "pygments_lexer": "ipython3",
   "version": "3.9.10"
  },
  "orig_nbformat": 4
 },
 "nbformat": 4,
 "nbformat_minor": 2
}
