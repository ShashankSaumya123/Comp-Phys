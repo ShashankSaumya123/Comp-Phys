{
 "cells": [
  {
   "cell_type": "code",
   "execution_count": 1,
   "metadata": {},
   "outputs": [],
   "source": [
    "import myLib\n",
    "import numpy as np"
   ]
  },
  {
   "cell_type": "code",
   "execution_count": 2,
   "metadata": {},
   "outputs": [
    {
     "name": "stdout",
     "output_type": "stream",
     "text": [
      "3.1384 3.138\n",
      "Looking at the results, the choice of m = 1021, a = 65 is better.\n"
     ]
    }
   ],
   "source": [
    "Num = 10000\n",
    "\n",
    "# Throwing Method\n",
    "def Throw_pi(m = 420, a = 11, seed1 = 69, seed2 = 420, N = 1000,r = 1):\n",
    "\n",
    "    x = myLib.MLCG_RNG(m, a, seed1, n = N)\n",
    "    x = [(xs-0.5)*2*r for xs in x]\n",
    "    y = myLib.MLCG_RNG(m, a, seed2, n = N)\n",
    "    y = [(ys-0.5)*2*r for ys in y]\n",
    "    In = 0\n",
    "    for i in range(N):\n",
    "        rn = (x[i]**2) + (y[i]**2)\n",
    "        if (rn <= r**2): In += 1\n",
    "    pi = 4*(In/N)\n",
    "    return pi\n",
    "\n",
    "\n",
    "pi1 = Throw_pi(m = 1021, a = 65, N = Num, r = 2)\n",
    "\n",
    "pi2 = Throw_pi(m = 16381, a = 572, N = Num)\n",
    "\n",
    "print(pi1,pi2)\n",
    "print('Looking at the results, the choice of m = 1021, a = 65 is better.')"
   ]
  },
  {
   "cell_type": "code",
   "execution_count": 3,
   "metadata": {},
   "outputs": [
    {
     "name": "stdout",
     "output_type": "stream",
     "text": [
      "3.142094804950023 3.1430285014739106\n",
      "The choice of seed determines how good our pseudo random numbers are going to be. AS we can see, the seed value 69 gives us slightly better random numbers for this problem.\n"
     ]
    }
   ],
   "source": [
    "# Using Monte Carlo Integral\n",
    "def func_1(x):\n",
    "    return 4*(np.sqrt(1-(x**2)))\n",
    "\n",
    "# Using monte carlo integral method\n",
    "pi3 = myLib.monteCarloIntegral(func_1, 0, 1, Num, rando = \"MLCG\", m = 1021, a = 65, seed = 69)\n",
    "pi4 = myLib.monteCarloIntegral(func_1, 0, 1, Num, rando = \"MLCG\", m = 16381, a = 572, seed = 420)\n",
    "print(pi3,pi4)\n",
    "print('The choice of seed determines how good our pseudo random numbers are going to be. AS we can see, the seed value 69 gives us slightly better random numbers for this problem.')"
   ]
  },
  {
   "cell_type": "code",
   "execution_count": 4,
   "metadata": {},
   "outputs": [
    {
     "name": "stdout",
     "output_type": "stream",
     "text": [
      "5.343396413610003 5.333333333333333\n"
     ]
    }
   ],
   "source": [
    "r = 1\n",
    "def func_2(z):\n",
    "    return (r**2)-(z**2)\n",
    "\n",
    "ans = 4*myLib.monteCarloIntegral(func_2, -r, r, Num, rando = \"MLCG\", m = 1021, a = 65, seed = 69)\n",
    "act_ans = (16/3)*(r**3)\n",
    "print(ans,act_ans)"
   ]
  }
 ],
 "metadata": {
  "interpreter": {
   "hash": "cd877c744f245d66ad89f7b86dd36462382e3c3b851519d05d729037db69bba9"
  },
  "kernelspec": {
   "display_name": "Python 3.9.10 ('lab-env': venv)",
   "language": "python",
   "name": "python3"
  },
  "language_info": {
   "codemirror_mode": {
    "name": "ipython",
    "version": 3
   },
   "file_extension": ".py",
   "mimetype": "text/x-python",
   "name": "python",
   "nbconvert_exporter": "python",
   "pygments_lexer": "ipython3",
   "version": "3.9.10"
  },
  "orig_nbformat": 4
 },
 "nbformat": 4,
 "nbformat_minor": 2
}
