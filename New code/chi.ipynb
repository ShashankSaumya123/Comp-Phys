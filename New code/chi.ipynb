{
 "cells": [
  {
   "cell_type": "code",
   "execution_count": 1,
   "metadata": {},
   "outputs": [],
   "source": [
    "import numpy as np\n",
    "from math import log\n",
    "import matplotlib.pyplot as plt  \n",
    "import myLib"
   ]
  },
  {
   "cell_type": "code",
   "execution_count": 31,
   "metadata": {},
   "outputs": [],
   "source": [
    "# Polynomial Chi Square fitting\n",
    "def PolynomialChiSqFit(x, y, u, n=2):\n",
    "    \"\"\"\n",
    "    x & y are dataset\n",
    "    u: Uncertainty\n",
    "    n: number of parameters. (order+1). 2 for linear\n",
    "    \"\"\"\n",
    "    A = np.zeros((n,n))\n",
    "    B = np.zeros(n)\n",
    "    for i in range(n):\n",
    "        for j in range(n):\n",
    "            sum = 0 \n",
    "            for k in range(len(x)):\n",
    "                sum  += x[k]**(i+j)/u[k]**2\n",
    "            A[i][j] = sum\n",
    "    for i in range(n):\n",
    "        sum = 0\n",
    "        for j in range(n):\n",
    "            sum += x[j]**(i)*y[j]/u[j]**2\n",
    "        B[i] = sum\n",
    "    C = myLib.GaussSeidel(A,B)\n",
    "    fit = []\n",
    "    for i in range(len(x)):\n",
    "        fit.append(math.exp(C[0]+C[1]*x[i])) # Edit according the order of polynomial needed\n",
    "\n",
    "    Cov = Inverse(A)\n",
    "    #print(Cov)\n",
    "\n",
    "    return fit\n",
    "\n",
    "# Function to find the inverse of  matrix using solver algos\n",
    "def Inverse(matrix, function = myLib.JacobiInv):\n",
    "    I = np.identity(len(matrix))\n",
    "    Inv = np.zeros((len(matrix),len(matrix)))\n",
    "    for i in range(len(matrix)):\n",
    "        Inv[:,i] = function(matrix, I[i])\n",
    "    return Inv   "
   ]
  },
  {
   "cell_type": "code",
   "execution_count": 32,
   "metadata": {},
   "outputs": [
    {
     "name": "stdout",
     "output_type": "stream",
     "text": [
      "[[1.18732046e-05 0.00000000e+00]\n",
      " [0.00000000e+00 6.61911064e-11]]\n",
      "[0.8834732089806766, 0.8197488407572554, 0.7560244725338342, 0.6923001043104129, 0.6285757360869917, 0.5648513678635705, 0.5011269996401493, 0.4374026314167281, 0.3736782631933069, 0.3099538949698857, 0.24622952674646437, 0.18250515852304316, 0.11878079029962185, 0.05505642207620076, -0.00866794614722044, -0.07239231437064175]\n"
     ]
    }
   ],
   "source": [
    "data = np.array(myLib.file_opener(\"bleh.txt\"))\n",
    "x = data[:,0]\n",
    "y = data[:,1]\n",
    "u = data[:,2]\n",
    "\n",
    "fity = PolynomialChiSqFit(x,y,u)\n",
    "print(fity)"
   ]
  },
  {
   "cell_type": "code",
   "execution_count": 33,
   "metadata": {},
   "outputs": [
    {
     "data": {
      "text/plain": [
       "<function matplotlib.pyplot.show(close=None, block=None)>"
      ]
     },
     "execution_count": 33,
     "metadata": {},
     "output_type": "execute_result"
    },
    {
     "data": {
      "image/png": "[encoded data removed]",
      "text/plain": [
       "<Figure size 432x288 with 1 Axes>"
      ]
     },
     "metadata": {
      "needs_background": "light"
     },
     "output_type": "display_data"
    }
   ],
   "source": [
    "plt.plot(x,y,'green')\n",
    "plt.plot(x,fity)\n",
    "plt.grid()\n",
    "plt.show"
   ]
  },
  {
   "cell_type": "code",
   "execution_count": 31,
   "metadata": {},
   "outputs": [],
   "source": [
    "m,b = np.polyfit(x,logvt,1)\n"
   ]
  },
  {
   "cell_type": "code",
   "execution_count": 32,
   "metadata": {},
   "outputs": [
    {
     "data": {
      "text/plain": [
       "-0.011795023520725109"
      ]
     },
     "execution_count": 32,
     "metadata": {},
     "output_type": "execute_result"
    }
   ],
   "source": [
    "m"
   ]
  },
  {
   "cell_type": "code",
   "execution_count": 33,
   "metadata": {},
   "outputs": [
    {
     "data": {
      "text/plain": [
       "1.549013678417312"
      ]
     },
     "execution_count": 33,
     "metadata": {},
     "output_type": "execute_result"
    }
   ],
   "source": [
    "b"
   ]
  },
  {
   "cell_type": "code",
   "execution_count": null,
   "metadata": {},
   "outputs": [],
   "source": []
  }
 ],
 "metadata": {
  "interpreter": {
   "hash": "6a60c7c0bbb9bc49c8f38655c364c79f9d895feb50eef24a1951784535a81066"
  },
  "kernelspec": {
   "display_name": "Python 3.9.7 64-bit",
   "language": "python",
   "name": "python3"
  },
  "language_info": {
   "codemirror_mode": {
    "name": "ipython",
    "version": 3
   },
   "file_extension": ".py",
   "mimetype": "text/x-python",
   "name": "python",
   "nbconvert_exporter": "python",
   "pygments_lexer": "ipython3",
   "version": "3.9.10"
  },
  "orig_nbformat": 4
 },
 "nbformat": 4,
 "nbformat_minor": 2
}
