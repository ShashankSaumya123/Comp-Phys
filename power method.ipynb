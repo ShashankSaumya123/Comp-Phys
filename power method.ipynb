{
 "cells": [
  {
   "cell_type": "code",
   "execution_count": 1,
   "metadata": {},
   "outputs": [],
   "source": [
    "import numpy as np\n"
   ]
  },
  {
   "cell_type": "code",
   "execution_count": 4,
   "metadata": {},
   "outputs": [],
   "source": [
    "A = [[5,4,6,10],[5,10,8,12],[6,8,15,14],[13,19,5,64]]\n",
    "x = [1,0,0,0]\n",
    "oldEigenVal = 0\n",
    "\n",
    "# Function which calculates the largest eigenvalue\n",
    "def PowerMethodCalc(A, x, tol = 1e-4):\n",
    "    oldEVal = 0 # Dummy initial instance\n",
    "    eVal = 2\n",
    "\n",
    "    while abs(oldEVal-eVal)>tol:\n",
    "        x = np.dot(A,x)\n",
    "        eVal = max(abs(x))\n",
    "        x = x/eVal\n",
    "\n",
    "        oldEVal=eVal\n",
    "\n",
    "    return eVal,x\n",
    "\n",
    "# Wrapper function which allows us to get multiple eigenvalues\n",
    "def EigPowerMethod(A, x=None, n=1, tol = 1e-4):\n",
    "    if x is None: x = np.ones(len(A))\n",
    "    eig = []\n",
    "    E,V = PowerMethodCalc(A,x,tol)\n",
    "    eig.append(E)\n",
    "    if n>1:\n",
    "        iter = n-1\n",
    "        while iter > 0:\n",
    "            V = V/np.linalg.norm(V)\n",
    "            V = np.array([V])\n",
    "            A = A - E*np.outer(V,V)\n",
    "            E,V = PowerMethodCalc(A,x,tol)\n",
    "            eig.append(E)\n",
    "            iter -= 1\n",
    "    return eig\n",
    "\n",
    "\n",
    "\n"
   ]
  },
  {
   "cell_type": "code",
   "execution_count": 5,
   "metadata": {},
   "outputs": [
    {
     "name": "stdout",
     "output_type": "stream",
     "text": [
      "[13, 9.686274509803921, 7.2172241445597844]\n"
     ]
    }
   ],
   "source": [
    "eval = EigPowerMethod(A,x,3)\n",
    "print(eval)"
   ]
  },
  {
   "cell_type": "code",
   "execution_count": null,
   "metadata": {},
   "outputs": [],
   "source": []
  }
 ],
 "metadata": {
  "interpreter": {
   "hash": "6a60c7c0bbb9bc49c8f38655c364c79f9d895feb50eef24a1951784535a81066"
  },
  "kernelspec": {
   "display_name": "Python 3.9.7 64-bit",
   "language": "python",
   "name": "python3"
  },
  "language_info": {
   "codemirror_mode": {
    "name": "ipython",
    "version": 3
   },
   "file_extension": ".py",
   "mimetype": "text/x-python",
   "name": "python",
   "nbconvert_exporter": "python",
   "pygments_lexer": "ipython3",
   "version": "3.9.10"
  },
  "orig_nbformat": 4
 },
 "nbformat": 4,
 "nbformat_minor": 2
}
